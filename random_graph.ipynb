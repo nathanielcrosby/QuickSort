{
 "cells": [
  {
   "cell_type": "code",
   "execution_count": 1,
   "metadata": {},
   "outputs": [],
   "source": [
    "import pandas as pd\n",
    "import numpy as np\n",
    "from matplotlib import pyplot as plt"
   ]
  },
  {
   "cell_type": "code",
   "execution_count": 2,
   "metadata": {},
   "outputs": [],
   "source": [
    "def f(n):\n",
    "    return 2*n*np.log(n)"
   ]
  },
  {
   "cell_type": "code",
   "execution_count": 3,
   "metadata": {},
   "outputs": [],
   "source": [
    "df_mostly = pd.read_csv(\"random_mostly.csv\")\n",
    "\n",
    "dataList_mostly = df_mostly.to_numpy()\n",
    "x_mostly = dataList_mostly[: , 0]\n",
    "x_mostly = x_mostly.astype('int')\n",
    "\n",
    "y_mostly = dataList_mostly[: , 1]\n",
    "y_mostly = y_mostly.astype('int')"
   ]
  },
  {
   "cell_type": "code",
   "execution_count": 4,
   "metadata": {},
   "outputs": [],
   "source": [
    "df_partial = pd.read_csv(\"random_partial.csv\")\n",
    "\n",
    "dataList_partial = df_partial.to_numpy()\n",
    "x_partial = dataList_partial[: 20, 0]\n",
    "x_partial = x_partial.astype('int')\n",
    "\n",
    "y_partial = dataList_partial[: 20, 1]\n",
    "y_partial = y_partial.astype('int')"
   ]
  },
  {
   "cell_type": "code",
   "execution_count": 5,
   "metadata": {},
   "outputs": [],
   "source": [
    "df_random = pd.read_csv(\"random_random.csv\")\n",
    "\n",
    "dataList_random = df_random.to_numpy()\n",
    "x_random = dataList_random[: , 0]\n",
    "x_random = x_random.astype('int')\n",
    "\n",
    "y_random = dataList_random[: , 1]\n",
    "y_random = y_random.astype('int')"
   ]
  },
  {
   "cell_type": "code",
   "execution_count": 6,
   "metadata": {},
   "outputs": [
    {
     "data": {
      "image/png": "[encoded data removed]",
      "text/plain": [
       "<Figure size 432x288 with 1 Axes>"
      ]
     },
     "metadata": {
      "needs_background": "light"
     },
     "output_type": "display_data"
    }
   ],
   "source": [
    "plt.title('Array Size vs Average Number of Comparisons')\n",
    "plt.plot(x_mostly, y_mostly, 'k', color='blue')\n",
    "plt.plot(x_partial, y_partial, 'k', color = 'green')\n",
    "plt.plot(x_random, y_random, 'k', color = 'red')\n",
    "plt.plot(x_mostly, f(x_mostly), 'k', color = 'yellow')\n",
    "plt.xlabel('Array size')\n",
    "plt.ylabel('Average Number of Comparisons')\n",
    "plt.show()"
   ]
  },
  {
   "cell_type": "code",
   "execution_count": null,
   "metadata": {},
   "outputs": [],
   "source": []
  }
 ],
 "metadata": {
  "kernelspec": {
   "display_name": "Python 3",
   "language": "python",
   "name": "python3"
  },
  "language_info": {
   "codemirror_mode": {
    "name": "ipython",
    "version": 3
   },
   "file_extension": ".py",
   "mimetype": "text/x-python",
   "name": "python",
   "nbconvert_exporter": "python",
   "pygments_lexer": "ipython3",
   "version": "3.8.3"
  }
 },
 "nbformat": 4,
 "nbformat_minor": 4
}
